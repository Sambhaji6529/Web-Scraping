{
  "nbformat": 4,
  "nbformat_minor": 0,
  "metadata": {
    "colab": {
      "provenance": [],
      "mount_file_id": "16gkzxtI9aPR70Epf3uK3BQ0b8aSjaSES",
      "authorship_tag": "ABX9TyPKiel3D65jxdtTuFiiaPLe",
      "include_colab_link": true
    },
    "kernelspec": {
      "name": "python3",
      "display_name": "Python 3"
    },
    "language_info": {
      "name": "python"
    }
  },
  "cells": [
    {
      "cell_type": "markdown",
      "metadata": {
        "id": "view-in-github",
        "colab_type": "text"
      },
      "source": [
        "<a href=\"https://colab.research.google.com/github/Sambhaji6529/Web-Scraping/blob/main/Web_Scraping.ipynb\" target=\"_parent\"><img src=\"https://colab.research.google.com/assets/colab-badge.svg\" alt=\"Open In Colab\"/></a>"
      ]
    },
    {
      "cell_type": "code",
      "source": [
        "import pandas as pd\n",
        "from bs4 import BeautifulSoup\n",
        "import requests\n",
        "import feedparser\n",
        "from transformers import pipeline\n",
        "import matplotlib.pyplot as plt\n",
        "from wordcloud import WordCloud\n",
        "\n",
        "# Step 1: Web scrape headlines from CNBC\n",
        "def scrape_cnbc_headlines():\n",
        "    url = \"https://www.cnbc.com/search/?query=green%20hydrogen&qsearchterm=green%20hydrogen\"\n",
        "    response = requests.get(url)\n",
        "    soup = BeautifulSoup(response.content, 'html.parser')\n",
        "    headlines = [headline.text.strip() for headline in soup.find_all('h3')]\n",
        "    return headlines\n"
      ],
      "metadata": {
        "id": "yIeFtnPqYJ9n"
      },
      "execution_count": null,
      "outputs": []
    },
    {
      "cell_type": "code",
      "source": [
        "# Call the function to scrape headlines\n",
        "df=cnbc_headlines = scrape_cnbc_headlines()\n",
        "\n",
        "# Print the scraped headlines\n",
        "print(\"CNBC Headlines:\")\n",
        "for headline in cnbc_headlines:\n",
        "    print(headline)\n"
      ],
      "metadata": {
        "colab": {
          "base_uri": "https://localhost:8080/"
        },
        "id": "vBf9tIjZUfp1",
        "outputId": "0fb6d231-d0f4-44dc-91b4-39317a241b1e"
      },
      "execution_count": null,
      "outputs": [
        {
          "output_type": "stream",
          "name": "stdout",
          "text": [
            "CNBC Headlines:\n"
          ]
        }
      ]
    },
    {
      "cell_type": "code",
      "source": [
        "# Step 2: Fetch news headlines from Google News\n",
        "def fetch_google_news_headlines():\n",
        "    url = \"https://news.google.com/rss/search?q=green%20hydrogen&hl=en-IN&gl=IN&ceid=IN:en\"\n",
        "    feed = feedparser.parse(url)\n",
        "    headlines = [entry.title for entry in feed.entries]\n",
        "    return headlines\n",
        "\n",
        "# Call the function to fetch headlines from Google News\n",
        "google_news_headlines = fetch_google_news_headlines()\n",
        "\n"
      ],
      "metadata": {
        "id": "6MEe0tqrU3b_"
      },
      "execution_count": null,
      "outputs": []
    },
    {
      "cell_type": "code",
      "source": [
        "print(f\"Length of google_news_headlines: {len(google_news_headlines)}\")"
      ],
      "metadata": {
        "colab": {
          "base_uri": "https://localhost:8080/"
        },
        "id": "HATMfyPKZjpz",
        "outputId": "99c0cdd8-c4fb-41dc-b4b6-9f61f5b728a3"
      },
      "execution_count": null,
      "outputs": [
        {
          "output_type": "stream",
          "name": "stdout",
          "text": [
            "Length of google_news_headlines: 98\n"
          ]
        }
      ]
    },
    {
      "cell_type": "code",
      "source": [
        "print(f\"create_dataframe function defined: {'yes' if 'create_dataframe' in globals() else 'no'}\")"
      ],
      "metadata": {
        "colab": {
          "base_uri": "https://localhost:8080/"
        },
        "id": "rZTmZtvZZmun",
        "outputId": "3e2047b6-1b85-411c-8f42-05b889308998"
      },
      "execution_count": null,
      "outputs": [
        {
          "output_type": "stream",
          "name": "stdout",
          "text": [
            "create_dataframe function defined: yes\n"
          ]
        }
      ]
    },
    {
      "cell_type": "code",
      "source": [
        "def create_dataframe(headlines, source):\n",
        "    df = pd.DataFrame({'Headline': headlines, 'Source': source})\n",
        "    df['Sentiment Score'] = calculate_sentiment_scores(headlines)\n",
        "    df['Organization Names'] = identify_organization_names(headlines)\n",
        "    return df"
      ],
      "metadata": {
        "id": "lTfTewD3Zsho"
      },
      "execution_count": null,
      "outputs": []
    },
    {
      "cell_type": "code",
      "source": [
        "# Specify the sentiment analysis model\n",
        "sentiment_analyzer = pipeline(\"sentiment-analysis\", model=\"distilbert-base-uncased-finetuned-sst-2-english\")\n"
      ],
      "metadata": {
        "id": "RHL-QWZKZ6-d"
      },
      "execution_count": null,
      "outputs": []
    },
    {
      "cell_type": "code",
      "source": [
        "print(f\"identify_organization_names function defined: {'yes' if 'identify_organization_names' in globals() else 'no'}\")"
      ],
      "metadata": {
        "colab": {
          "base_uri": "https://localhost:8080/"
        },
        "id": "d0P5FVoqaSzs",
        "outputId": "18d2ed2a-e98b-4baa-dffd-65935cd05d31"
      },
      "execution_count": null,
      "outputs": [
        {
          "output_type": "stream",
          "name": "stdout",
          "text": [
            "identify_organization_names function defined: yes\n"
          ]
        }
      ]
    },
    {
      "cell_type": "code",
      "source": [
        "!pip install spacy\n",
        "!python -m spacy download en_core_web_sm"
      ],
      "metadata": {
        "id": "cTdVRSxXaVdj"
      },
      "execution_count": null,
      "outputs": []
    },
    {
      "cell_type": "code",
      "source": [
        "import spacy\n",
        "from spacy import displacy\n",
        "from spacy.matcher import Matcher\n",
        "from spacy.tokens import Span"
      ],
      "metadata": {
        "id": "vlFGlBqlaizI"
      },
      "execution_count": null,
      "outputs": []
    },
    {
      "cell_type": "code",
      "source": [
        "def identify_organization_names(text):\n",
        "    nlp = spacy.load(\"en_core_web_sm\")\n",
        "    doc = nlp(text)\n",
        "\n",
        "    # Initialize the matcher with a pattern for organizations\n",
        "    matcher = Matcher(nlp.vocab)\n",
        "    pattern = [{\"POS\": \"PROPN\"}, {\"POS\": \"PROPN\"}]\n",
        "    matcher.add(\"ORG\", [pattern])\n",
        "\n",
        "    # Find matches in the text\n",
        "    matches = matcher(doc)\n",
        "\n",
        "    # Extract organization names from matches\n",
        "    org_names = []\n",
        "    for match_id, start, end in matches:\n",
        "        org_names.append(doc[start:end].text)\n",
        "\n",
        "    return org_names"
      ],
      "metadata": {
        "id": "bQ7FMEm8amAJ"
      },
      "execution_count": null,
      "outputs": []
    },
    {
      "cell_type": "code",
      "source": [
        "print(type(cnbc_headlines))"
      ],
      "metadata": {
        "colab": {
          "base_uri": "https://localhost:8080/"
        },
        "id": "BQ1Auxaua6RA",
        "outputId": "817a3152-b230-486b-fe1d-24c3db6a5117"
      },
      "execution_count": null,
      "outputs": [
        {
          "output_type": "stream",
          "name": "stdout",
          "text": [
            "<class 'list'>\n"
          ]
        }
      ]
    },
    {
      "cell_type": "code",
      "source": [
        "df = pd.DataFrame(columns=[\"Headline\", \"Organization Names\"])"
      ],
      "metadata": {
        "id": "OD_NYf10cXeD"
      },
      "execution_count": null,
      "outputs": []
    },
    {
      "cell_type": "code",
      "source": [
        "org_names = []\n",
        "for headline in cnbc_headlines:\n",
        "    org_names.extend(identify_organization_names(cnbc_headlines))\n",
        "\n",
        "df['Organization Names'] = org_names"
      ],
      "metadata": {
        "id": "kuEkQnN9b6XJ"
      },
      "execution_count": null,
      "outputs": []
    },
    {
      "cell_type": "code",
      "source": [
        "import pandas as pd\n",
        "\n",
        "def create_dataframe(headlines, sources):\n",
        "    # Check if headlines and sources have the same length\n",
        "    if len(headlines) != len(sources):\n",
        "        raise ValueError(\"Length of headlines and sources must be the same.\")\n",
        "\n",
        "    # Create a DataFrame\n",
        "    df = pd.DataFrame({'Headline': headlines, 'Source': sources})\n",
        "    return df\n",
        "\n",
        "# Check if either source has headlines\n",
        "if cnbc_headlines and google_news_headlines:\n",
        "    df = create_dataframe(cnbc_headlines + google_news_headlines, ['CNBC'] * len(cnbc_headlines) + ['Google News'] * len(google_news_headlines))\n",
        "elif cnbc_headlines:\n",
        "    df = create_dataframe(cnbc_headlines, ['CNBC'] * len(cnbc_headlines))\n",
        "elif google_news_headlines:\n",
        "    df = create_dataframe(google_news_headlines, ['Google News'] * len(google_news_headlines))\n",
        "else:\n",
        "    print(\"No headlines available from either source.\")\n"
      ],
      "metadata": {
        "id": "1vlK2J1Vc4Fh"
      },
      "execution_count": null,
      "outputs": []
    },
    {
      "cell_type": "code",
      "source": [
        "# Step 3: Create Pandas DataFrame\n",
        "if cnbc_headlines and google_news_headlines:\n",
        "    df = create_dataframe(cnbc_headlines + google_news_headlines, ['CNBC'] * len(cnbc_headlines) + ['Google News'] * len(google_news_headlines))\n",
        "elif cnbc_headlines:\n",
        "    df = create_dataframe(cnbc_headlines, ['CNBC'] * len(cnbc_headlines))\n",
        "elif google_news_headlines:\n",
        "    df = create_dataframe(google_news_headlines, ['Google News'] * len(google_news_headlines))\n",
        "else:\n",
        "    print(\"No headlines available from either source.\")"
      ],
      "metadata": {
        "id": "mVVyeME4Zv5H"
      },
      "execution_count": null,
      "outputs": []
    },
    {
      "cell_type": "code",
      "source": [
        "# Step 4: Use sentiment analysis model to compute sentiment scores\n",
        "def calculate_sentiment_scores(headlines):\n",
        "    sentiment_analyzer = pipeline(\"sentiment-analysis\")\n",
        "    sentiment_scores = [sentiment_analyzer(headline)[0]['score'] for headline in headlines]\n",
        "    return sentiment_scores"
      ],
      "metadata": {
        "id": "4ahPytLJU7S3"
      },
      "execution_count": null,
      "outputs": []
    },
    {
      "cell_type": "code",
      "source": [
        "# Step 5: Use NER model to identify organization names\n",
        "def identify_organization_names(headlines):\n",
        "    # Use appropriate NER model to identify organization names\n",
        "    # Example: Use SpaCy's NER model\n",
        "    organizations = []  # Placeholder for identified organization names\n",
        "    return organizations"
      ],
      "metadata": {
        "id": "JoNhZZJJU9LG"
      },
      "execution_count": null,
      "outputs": []
    },
    {
      "cell_type": "code",
      "source": [
        "# Step 6: Create Pandas DataFrame with headlines, news date, source, sentiment score, and organization names\n",
        "import pandas as pd\n",
        "\n",
        "# Step 6: Create Pandas DataFrame with headlines, news date, source, sentiment score, and organization names\n",
        "def create_dataframe(headlines, source, news_date):\n",
        "    df = pd.DataFrame({'Headline': headlines, 'Source': source, 'News Date': news_date})\n",
        "    df['Sentiment Score'] = calculate_sentiment_scores(headlines)\n",
        "    df['Organization Names'] = identify_organization_names(headlines)\n",
        "    return df\n"
      ],
      "metadata": {
        "id": "PIyaSPT3VB64"
      },
      "execution_count": null,
      "outputs": []
    },
    {
      "cell_type": "code",
      "source": [
        "# Step 7: Generate CSV table\n",
        "def generate_csv(df):\n",
        "    df.to_csv('green_hydrogen_news.csv', index=False)\n"
      ],
      "metadata": {
        "id": "70xFLCrtVFrv"
      },
      "execution_count": null,
      "outputs": []
    },
    {
      "cell_type": "code",
      "source": [
        "# Step 8: Transfer CSV data to Google Sheet using Google Sheets Python API\n",
        "# You'll need to follow Google Sheets API documentation for this step"
      ],
      "metadata": {
        "id": "nDKy0d18fceT"
      },
      "execution_count": null,
      "outputs": []
    },
    {
      "cell_type": "code",
      "source": [
        "pip install --upgrade google-api-python-client\n"
      ],
      "metadata": {
        "id": "Rqwdv4RLVKKs"
      },
      "execution_count": null,
      "outputs": []
    },
    {
      "cell_type": "code",
      "source": [
        "df.head()"
      ],
      "metadata": {
        "colab": {
          "base_uri": "https://localhost:8080/",
          "height": 206
        },
        "id": "1z2RCjkElbQ8",
        "outputId": "6a552d30-c50f-4362-f3b3-4455b38974dd"
      },
      "execution_count": null,
      "outputs": [
        {
          "output_type": "execute_result",
          "data": {
            "text/plain": [
              "                                            Headline       Source\n",
              "0  Govt allocates Rs 455 crore for green hydrogen...  Google News\n",
              "1  Govt shares guidelines for Green Hydrogen Pilo...  Google News\n",
              "2  MNRE Launches Pilot Projects to Implement Gree...  Google News\n",
              "3  MNRE releases guidelines for pilot projects on...  Google News\n",
              "4  India Releases Guidelines for Green Hydrogen i...  Google News"
            ],
            "text/html": [
              "\n",
              "  <div id=\"df-2cb6ff8c-f7e0-44be-82ab-c126fd124655\" class=\"colab-df-container\">\n",
              "    <div>\n",
              "<style scoped>\n",
              "    .dataframe tbody tr th:only-of-type {\n",
              "        vertical-align: middle;\n",
              "    }\n",
              "\n",
              "    .dataframe tbody tr th {\n",
              "        vertical-align: top;\n",
              "    }\n",
              "\n",
              "    .dataframe thead th {\n",
              "        text-align: right;\n",
              "    }\n",
              "</style>\n",
              "<table border=\"1\" class=\"dataframe\">\n",
              "  <thead>\n",
              "    <tr style=\"text-align: right;\">\n",
              "      <th></th>\n",
              "      <th>Headline</th>\n",
              "      <th>Source</th>\n",
              "    </tr>\n",
              "  </thead>\n",
              "  <tbody>\n",
              "    <tr>\n",
              "      <th>0</th>\n",
              "      <td>Govt allocates Rs 455 crore for green hydrogen...</td>\n",
              "      <td>Google News</td>\n",
              "    </tr>\n",
              "    <tr>\n",
              "      <th>1</th>\n",
              "      <td>Govt shares guidelines for Green Hydrogen Pilo...</td>\n",
              "      <td>Google News</td>\n",
              "    </tr>\n",
              "    <tr>\n",
              "      <th>2</th>\n",
              "      <td>MNRE Launches Pilot Projects to Implement Gree...</td>\n",
              "      <td>Google News</td>\n",
              "    </tr>\n",
              "    <tr>\n",
              "      <th>3</th>\n",
              "      <td>MNRE releases guidelines for pilot projects on...</td>\n",
              "      <td>Google News</td>\n",
              "    </tr>\n",
              "    <tr>\n",
              "      <th>4</th>\n",
              "      <td>India Releases Guidelines for Green Hydrogen i...</td>\n",
              "      <td>Google News</td>\n",
              "    </tr>\n",
              "  </tbody>\n",
              "</table>\n",
              "</div>\n",
              "    <div class=\"colab-df-buttons\">\n",
              "\n",
              "  <div class=\"colab-df-container\">\n",
              "    <button class=\"colab-df-convert\" onclick=\"convertToInteractive('df-2cb6ff8c-f7e0-44be-82ab-c126fd124655')\"\n",
              "            title=\"Convert this dataframe to an interactive table.\"\n",
              "            style=\"display:none;\">\n",
              "\n",
              "  <svg xmlns=\"http://www.w3.org/2000/svg\" height=\"24px\" viewBox=\"0 -960 960 960\">\n",
              "    <path d=\"M120-120v-720h720v720H120Zm60-500h600v-160H180v160Zm220 220h160v-160H400v160Zm0 220h160v-160H400v160ZM180-400h160v-160H180v160Zm440 0h160v-160H620v160ZM180-180h160v-160H180v160Zm440 0h160v-160H620v160Z\"/>\n",
              "  </svg>\n",
              "    </button>\n",
              "\n",
              "  <style>\n",
              "    .colab-df-container {\n",
              "      display:flex;\n",
              "      gap: 12px;\n",
              "    }\n",
              "\n",
              "    .colab-df-convert {\n",
              "      background-color: #E8F0FE;\n",
              "      border: none;\n",
              "      border-radius: 50%;\n",
              "      cursor: pointer;\n",
              "      display: none;\n",
              "      fill: #1967D2;\n",
              "      height: 32px;\n",
              "      padding: 0 0 0 0;\n",
              "      width: 32px;\n",
              "    }\n",
              "\n",
              "    .colab-df-convert:hover {\n",
              "      background-color: #E2EBFA;\n",
              "      box-shadow: 0px 1px 2px rgba(60, 64, 67, 0.3), 0px 1px 3px 1px rgba(60, 64, 67, 0.15);\n",
              "      fill: #174EA6;\n",
              "    }\n",
              "\n",
              "    .colab-df-buttons div {\n",
              "      margin-bottom: 4px;\n",
              "    }\n",
              "\n",
              "    [theme=dark] .colab-df-convert {\n",
              "      background-color: #3B4455;\n",
              "      fill: #D2E3FC;\n",
              "    }\n",
              "\n",
              "    [theme=dark] .colab-df-convert:hover {\n",
              "      background-color: #434B5C;\n",
              "      box-shadow: 0px 1px 3px 1px rgba(0, 0, 0, 0.15);\n",
              "      filter: drop-shadow(0px 1px 2px rgba(0, 0, 0, 0.3));\n",
              "      fill: #FFFFFF;\n",
              "    }\n",
              "  </style>\n",
              "\n",
              "    <script>\n",
              "      const buttonEl =\n",
              "        document.querySelector('#df-2cb6ff8c-f7e0-44be-82ab-c126fd124655 button.colab-df-convert');\n",
              "      buttonEl.style.display =\n",
              "        google.colab.kernel.accessAllowed ? 'block' : 'none';\n",
              "\n",
              "      async function convertToInteractive(key) {\n",
              "        const element = document.querySelector('#df-2cb6ff8c-f7e0-44be-82ab-c126fd124655');\n",
              "        const dataTable =\n",
              "          await google.colab.kernel.invokeFunction('convertToInteractive',\n",
              "                                                    [key], {});\n",
              "        if (!dataTable) return;\n",
              "\n",
              "        const docLinkHtml = 'Like what you see? Visit the ' +\n",
              "          '<a target=\"_blank\" href=https://colab.research.google.com/notebooks/data_table.ipynb>data table notebook</a>'\n",
              "          + ' to learn more about interactive tables.';\n",
              "        element.innerHTML = '';\n",
              "        dataTable['output_type'] = 'display_data';\n",
              "        await google.colab.output.renderOutput(dataTable, element);\n",
              "        const docLink = document.createElement('div');\n",
              "        docLink.innerHTML = docLinkHtml;\n",
              "        element.appendChild(docLink);\n",
              "      }\n",
              "    </script>\n",
              "  </div>\n",
              "\n",
              "\n",
              "<div id=\"df-35edd781-a638-4094-83ce-5f5408448fd8\">\n",
              "  <button class=\"colab-df-quickchart\" onclick=\"quickchart('df-35edd781-a638-4094-83ce-5f5408448fd8')\"\n",
              "            title=\"Suggest charts\"\n",
              "            style=\"display:none;\">\n",
              "\n",
              "<svg xmlns=\"http://www.w3.org/2000/svg\" height=\"24px\"viewBox=\"0 0 24 24\"\n",
              "     width=\"24px\">\n",
              "    <g>\n",
              "        <path d=\"M19 3H5c-1.1 0-2 .9-2 2v14c0 1.1.9 2 2 2h14c1.1 0 2-.9 2-2V5c0-1.1-.9-2-2-2zM9 17H7v-7h2v7zm4 0h-2V7h2v10zm4 0h-2v-4h2v4z\"/>\n",
              "    </g>\n",
              "</svg>\n",
              "  </button>\n",
              "\n",
              "<style>\n",
              "  .colab-df-quickchart {\n",
              "      --bg-color: #E8F0FE;\n",
              "      --fill-color: #1967D2;\n",
              "      --hover-bg-color: #E2EBFA;\n",
              "      --hover-fill-color: #174EA6;\n",
              "      --disabled-fill-color: #AAA;\n",
              "      --disabled-bg-color: #DDD;\n",
              "  }\n",
              "\n",
              "  [theme=dark] .colab-df-quickchart {\n",
              "      --bg-color: #3B4455;\n",
              "      --fill-color: #D2E3FC;\n",
              "      --hover-bg-color: #434B5C;\n",
              "      --hover-fill-color: #FFFFFF;\n",
              "      --disabled-bg-color: #3B4455;\n",
              "      --disabled-fill-color: #666;\n",
              "  }\n",
              "\n",
              "  .colab-df-quickchart {\n",
              "    background-color: var(--bg-color);\n",
              "    border: none;\n",
              "    border-radius: 50%;\n",
              "    cursor: pointer;\n",
              "    display: none;\n",
              "    fill: var(--fill-color);\n",
              "    height: 32px;\n",
              "    padding: 0;\n",
              "    width: 32px;\n",
              "  }\n",
              "\n",
              "  .colab-df-quickchart:hover {\n",
              "    background-color: var(--hover-bg-color);\n",
              "    box-shadow: 0 1px 2px rgba(60, 64, 67, 0.3), 0 1px 3px 1px rgba(60, 64, 67, 0.15);\n",
              "    fill: var(--button-hover-fill-color);\n",
              "  }\n",
              "\n",
              "  .colab-df-quickchart-complete:disabled,\n",
              "  .colab-df-quickchart-complete:disabled:hover {\n",
              "    background-color: var(--disabled-bg-color);\n",
              "    fill: var(--disabled-fill-color);\n",
              "    box-shadow: none;\n",
              "  }\n",
              "\n",
              "  .colab-df-spinner {\n",
              "    border: 2px solid var(--fill-color);\n",
              "    border-color: transparent;\n",
              "    border-bottom-color: var(--fill-color);\n",
              "    animation:\n",
              "      spin 1s steps(1) infinite;\n",
              "  }\n",
              "\n",
              "  @keyframes spin {\n",
              "    0% {\n",
              "      border-color: transparent;\n",
              "      border-bottom-color: var(--fill-color);\n",
              "      border-left-color: var(--fill-color);\n",
              "    }\n",
              "    20% {\n",
              "      border-color: transparent;\n",
              "      border-left-color: var(--fill-color);\n",
              "      border-top-color: var(--fill-color);\n",
              "    }\n",
              "    30% {\n",
              "      border-color: transparent;\n",
              "      border-left-color: var(--fill-color);\n",
              "      border-top-color: var(--fill-color);\n",
              "      border-right-color: var(--fill-color);\n",
              "    }\n",
              "    40% {\n",
              "      border-color: transparent;\n",
              "      border-right-color: var(--fill-color);\n",
              "      border-top-color: var(--fill-color);\n",
              "    }\n",
              "    60% {\n",
              "      border-color: transparent;\n",
              "      border-right-color: var(--fill-color);\n",
              "    }\n",
              "    80% {\n",
              "      border-color: transparent;\n",
              "      border-right-color: var(--fill-color);\n",
              "      border-bottom-color: var(--fill-color);\n",
              "    }\n",
              "    90% {\n",
              "      border-color: transparent;\n",
              "      border-bottom-color: var(--fill-color);\n",
              "    }\n",
              "  }\n",
              "</style>\n",
              "\n",
              "  <script>\n",
              "    async function quickchart(key) {\n",
              "      const quickchartButtonEl =\n",
              "        document.querySelector('#' + key + ' button');\n",
              "      quickchartButtonEl.disabled = true;  // To prevent multiple clicks.\n",
              "      quickchartButtonEl.classList.add('colab-df-spinner');\n",
              "      try {\n",
              "        const charts = await google.colab.kernel.invokeFunction(\n",
              "            'suggestCharts', [key], {});\n",
              "      } catch (error) {\n",
              "        console.error('Error during call to suggestCharts:', error);\n",
              "      }\n",
              "      quickchartButtonEl.classList.remove('colab-df-spinner');\n",
              "      quickchartButtonEl.classList.add('colab-df-quickchart-complete');\n",
              "    }\n",
              "    (() => {\n",
              "      let quickchartButtonEl =\n",
              "        document.querySelector('#df-35edd781-a638-4094-83ce-5f5408448fd8 button');\n",
              "      quickchartButtonEl.style.display =\n",
              "        google.colab.kernel.accessAllowed ? 'block' : 'none';\n",
              "    })();\n",
              "  </script>\n",
              "</div>\n",
              "\n",
              "    </div>\n",
              "  </div>\n"
            ]
          },
          "metadata": {},
          "execution_count": 74
        }
      ]
    },
    {
      "cell_type": "code",
      "source": [
        "df.info()"
      ],
      "metadata": {
        "colab": {
          "base_uri": "https://localhost:8080/"
        },
        "id": "bqIAFcssl6OZ",
        "outputId": "c69f886f-171e-4b38-a928-b82a9b8d5ceb"
      },
      "execution_count": null,
      "outputs": [
        {
          "output_type": "stream",
          "name": "stdout",
          "text": [
            "<class 'pandas.core.frame.DataFrame'>\n",
            "RangeIndex: 98 entries, 0 to 97\n",
            "Data columns (total 2 columns):\n",
            " #   Column    Non-Null Count  Dtype \n",
            "---  ------    --------------  ----- \n",
            " 0   Headline  98 non-null     object\n",
            " 1   Source    98 non-null     object\n",
            "dtypes: object(2)\n",
            "memory usage: 1.7+ KB\n"
          ]
        }
      ]
    },
    {
      "cell_type": "code",
      "source": [
        "# Assuming 'news_dates' is a list containing the dates you want to add\n",
        "news_dates = [1/29/2024, 1/17/2024, 1/15/2024, 1/31/2024, 8/12/2023, 11/9/2023, 7/4/2023 ]  # Your list of dates goes here\n",
        "\n",
        "# Add the 'News Date' column to the DataFrame\n",
        "df['news_dates'] = news_dates\n"
      ],
      "metadata": {
        "id": "HXFLCUuNmzVm"
      },
      "execution_count": null,
      "outputs": []
    },
    {
      "cell_type": "code",
      "source": [
        "# Check column names\n",
        "print(df.columns)\n",
        "\n",
        "# Check if 'News Date' is in the columns\n",
        "if 'News Date' in df.columns:\n",
        "    print(df['News Date'].head())\n",
        "else:\n",
        "    print(\"Column 'News Date' not found in DataFrame.\")\n"
      ],
      "metadata": {
        "colab": {
          "base_uri": "https://localhost:8080/"
        },
        "id": "tMKlZm_rmWnn",
        "outputId": "8436df56-c46e-4dc6-b172-e3b24649fd80"
      },
      "execution_count": null,
      "outputs": [
        {
          "output_type": "stream",
          "name": "stdout",
          "text": [
            "Index(['Headline', 'Source'], dtype='object')\n",
            "Column 'News Date' not found in DataFrame.\n"
          ]
        }
      ]
    },
    {
      "cell_type": "code",
      "source": [
        "# Step 9: Generate graph for week-wise trend of average sentiment scores\n",
        "def generate_sentiment_trend_graph(df):\n",
        "    # Convert the 'News Date' column to datetime format\n",
        "    df['News Date'] = pd.to_datetime(df['News Date'], format='%Y-%m-%d')\n",
        "    # Group the data by week and calculate the average sentiment score\n",
        "    df['Week'] = df['News Date'].dt.week\n",
        "    weekly_sentiment = df.groupby('Week')['Sentiment Score'].mean()\n",
        "    # Plot the graph\n",
        "    plt.plot(weekly_sentiment.index, weekly_sentiment.values)\n",
        "    plt.xlabel('Week')\n",
        "    plt.ylabel('Average Sentiment Score')\n",
        "    plt.title('Week-wise Trend of Average Sentiment Score')\n",
        "    plt.show()"
      ],
      "metadata": {
        "id": "PP8SnbsIlX7c"
      },
      "execution_count": null,
      "outputs": []
    },
    {
      "cell_type": "code",
      "source": [
        "# Step 10: Generate word cloud map with organization names\n",
        "def generate_wordcloud(organizations):\n",
        "    wordcloud = WordCloud(width=800, height=400, background_color ='white').generate(' '.join(organizations))\n",
        "    plt.figure(figsize=(10, 5))\n",
        "    plt.imshow(wordcloud, interpolation='bilinear')\n",
        "    plt.axis('off')\n",
        "    plt.show()"
      ],
      "metadata": {
        "id": "fQAwl5hik7f_"
      },
      "execution_count": null,
      "outputs": []
    },
    {
      "cell_type": "code",
      "source": [
        "# Main function to orchestrate the workflow\n",
        "def main():\n",
        "    # Step 1: Scrape CNBC headlines\n",
        "    cnbc_headlines = scrape_cnbc_headlines()\n",
        "\n",
        "    # Step 2: Fetch Google News headlines\n",
        "    google_news_headlines = fetch_google_news_headlines()\n",
        "\n",
        "    # Step 3: Create Pandas DataFrame\n",
        "    df = create_dataframe(cnbc_headlines + google_news_headlines, ['CNBC'] * len(cnbc_headlines) + ['Google News'] * len(google_news_headlines), [])\n",
        "\n",
        "    # Step 6: Generate CSV\n",
        "    generate_csv(df)\n",
        "\n",
        "    # Step 8: Transfer data to Google Sheet\n",
        "\n",
        "    # Step 9: Generate sentiment trend graph\n",
        "    generate_sentiment_trend_graph(df)\n",
        "\n",
        "    # Step 10: Generate word cloud\n",
        "    #generate_wordcloud(df['Organization Names'])\n",
        "\n",
        "if __name__ == \"__main__\":\n",
        "    main()"
      ],
      "metadata": {
        "id": "6ma8cqlsk9H9"
      },
      "execution_count": null,
      "outputs": []
    }
  ]
}